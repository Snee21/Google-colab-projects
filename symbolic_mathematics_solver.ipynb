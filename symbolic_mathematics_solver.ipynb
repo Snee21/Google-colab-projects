{
  "nbformat": 4,
  "nbformat_minor": 0,
  "metadata": {
    "colab": {
      "provenance": [],
      "authorship_tag": "ABX9TyNLMR9fP80WWS54LrhU7vN5",
      "include_colab_link": true
    },
    "kernelspec": {
      "name": "python3",
      "display_name": "Python 3"
    },
    "language_info": {
      "name": "python"
    }
  },
  "cells": [
    {
      "cell_type": "markdown",
      "metadata": {
        "id": "view-in-github",
        "colab_type": "text"
      },
      "source": [
        "<a href=\"https://colab.research.google.com/github/Snee21/Google-colab-projects/blob/main/symbolic_mathematics_solver.ipynb\" target=\"_parent\"><img src=\"https://colab.research.google.com/assets/colab-badge.svg\" alt=\"Open In Colab\"/></a>"
      ]
    },
    {
      "cell_type": "code",
      "execution_count": 1,
      "metadata": {
        "colab": {
          "base_uri": "https://localhost:8080/"
        },
        "id": "YL8o1t_w5R4O",
        "outputId": "f06180de-493b-47c5-bc8b-d26a8c5acd2f"
      },
      "outputs": [
        {
          "output_type": "stream",
          "name": "stdout",
          "text": [
            "Requirement already satisfied: sympy in /usr/local/lib/python3.10/dist-packages (1.12.1)\n",
            "Requirement already satisfied: mpmath<1.4.0,>=1.1.0 in /usr/local/lib/python3.10/dist-packages (from sympy) (1.3.0)\n"
          ]
        }
      ],
      "source": [
        "!pip install sympy\n",
        "\n",
        "import sympy as sp\n"
      ]
    },
    {
      "cell_type": "code",
      "source": [
        "# Define symbolic variables\n",
        "x, y, z = sp.symbols('x y z')\n"
      ],
      "metadata": {
        "id": "JnDEv9dp5zO5"
      },
      "execution_count": 2,
      "outputs": []
    },
    {
      "cell_type": "code",
      "source": [
        "# Define symbolic expressions\n",
        "expr1 = x**2 + 2*x + 1\n",
        "expr2 = sp.sin(x) * sp.cos(y)\n",
        "expr3 = sp.exp(x) * sp.log(y)\n"
      ],
      "metadata": {
        "id": "iq18m49x56rq"
      },
      "execution_count": 3,
      "outputs": []
    },
    {
      "cell_type": "code",
      "source": [
        "# Solve an equation\n",
        "equation = sp.Eq(x**2 - 4, 0)\n",
        "solutions = sp.solve(equation, x)\n",
        "print(f\"Solutions to the equation {equation} are: {solutions}\")\n"
      ],
      "metadata": {
        "colab": {
          "base_uri": "https://localhost:8080/"
        },
        "id": "y0Aho5VY6FgR",
        "outputId": "7d4b0fc0-801a-4578-82e3-1e436530b2d5"
      },
      "execution_count": 4,
      "outputs": [
        {
          "output_type": "stream",
          "name": "stdout",
          "text": [
            "Solutions to the equation Eq(x**2 - 4, 0) are: [-2, 2]\n"
          ]
        }
      ]
    },
    {
      "cell_type": "code",
      "source": [
        "# Differentiate an expression\n",
        "diff_expr = sp.diff(expr1, x)\n",
        "print(f\"Differentiation of {expr1} with respect to x is: {diff_expr}\")\n"
      ],
      "metadata": {
        "colab": {
          "base_uri": "https://localhost:8080/"
        },
        "id": "zMfWRsf66KiD",
        "outputId": "ccf818b1-d780-41c1-a31e-1d5e9ab800e8"
      },
      "execution_count": 5,
      "outputs": [
        {
          "output_type": "stream",
          "name": "stdout",
          "text": [
            "Differentiation of x**2 + 2*x + 1 with respect to x is: 2*x + 2\n"
          ]
        }
      ]
    },
    {
      "cell_type": "code",
      "source": [
        "# Integrate an expression\n",
        "integral_expr = sp.integrate(expr2, x)\n",
        "print(f\"Indefinite integral of {expr2} with respect to x is: {integral_expr}\")\n"
      ],
      "metadata": {
        "colab": {
          "base_uri": "https://localhost:8080/"
        },
        "id": "1ztaHa8S6ODW",
        "outputId": "8f7beeb0-0add-4c46-fe0b-2d1392df9874"
      },
      "execution_count": 6,
      "outputs": [
        {
          "output_type": "stream",
          "name": "stdout",
          "text": [
            "Indefinite integral of sin(x)*cos(y) with respect to x is: -cos(x)*cos(y)\n"
          ]
        }
      ]
    },
    {
      "cell_type": "code",
      "source": [
        "# Simplify an expression\n",
        "simplified_expr = sp.simplify(expr3)\n",
        "print(f\"Simplified form of {expr3} is: {simplified_expr}\")\n"
      ],
      "metadata": {
        "colab": {
          "base_uri": "https://localhost:8080/"
        },
        "id": "oji-ki046UO6",
        "outputId": "d349f335-8e42-4d67-fee1-f7dbac4ce6a9"
      },
      "execution_count": 7,
      "outputs": [
        {
          "output_type": "stream",
          "name": "stdout",
          "text": [
            "Simplified form of exp(x)*log(y) is: exp(x)*log(y)\n"
          ]
        }
      ]
    },
    {
      "cell_type": "code",
      "source": [
        "# Expand an expression\n",
        "expanded_expr = sp.expand((x + 1)**2)\n",
        "print(f\"Expanded form of (x + 1)^2 is: {expanded_expr}\")\n"
      ],
      "metadata": {
        "colab": {
          "base_uri": "https://localhost:8080/"
        },
        "id": "a4QpetqM6XJj",
        "outputId": "db7d07f0-7cbe-4905-9864-52c4b9153656"
      },
      "execution_count": 8,
      "outputs": [
        {
          "output_type": "stream",
          "name": "stdout",
          "text": [
            "Expanded form of (x + 1)^2 is: x**2 + 2*x + 1\n"
          ]
        }
      ]
    },
    {
      "cell_type": "code",
      "source": [
        "# Factor an expression\n",
        "factored_expr = sp.factor(x**2 - 1)\n",
        "print(f\"Factored form of x^2 - 1 is: {factored_expr}\")\n"
      ],
      "metadata": {
        "colab": {
          "base_uri": "https://localhost:8080/"
        },
        "id": "_WnRVd6a6aAb",
        "outputId": "0f454542-ee1d-4981-b720-74eb6741b787"
      },
      "execution_count": 9,
      "outputs": [
        {
          "output_type": "stream",
          "name": "stdout",
          "text": [
            "Factored form of x^2 - 1 is: (x - 1)*(x + 1)\n"
          ]
        }
      ]
    },
    {
      "cell_type": "code",
      "source": [
        "# Solve a system of equations\n",
        "system = [\n",
        "    sp.Eq(x + y, 2),\n",
        "    sp.Eq(x - y, 0)\n",
        "]\n",
        "solutions = sp.solve(system, (x, y))\n",
        "print(f\"Solutions to the system of equations are: {solutions}\")\n"
      ],
      "metadata": {
        "colab": {
          "base_uri": "https://localhost:8080/"
        },
        "id": "D6APSdGu6dU3",
        "outputId": "961b4d84-8b62-45b0-e756-9ef72af3871f"
      },
      "execution_count": 10,
      "outputs": [
        {
          "output_type": "stream",
          "name": "stdout",
          "text": [
            "Solutions to the system of equations are: {x: 1, y: 1}\n"
          ]
        }
      ]
    },
    {
      "cell_type": "code",
      "source": [
        "import matplotlib.pyplot as plt\n",
        "import numpy as np\n",
        "\n",
        "# Define a function to plot\n",
        "f = sp.lambdify(x, expr1, 'numpy')\n",
        "\n",
        "# Generate x values\n",
        "x_vals = np.linspace(-10, 10, 400)\n",
        "y_vals = f(x_vals)\n",
        "\n",
        "# Plot the function\n",
        "plt.plot(x_vals, y_vals, label=str(expr1))\n",
        "plt.xlabel('x')\n",
        "plt.ylabel('y')\n",
        "plt.legend()\n",
        "plt.show()\n"
      ],
      "metadata": {
        "colab": {
          "base_uri": "https://localhost:8080/",
          "height": 449
        },
        "id": "zc6ODgYd6g17",
        "outputId": "a235111d-a96f-4ab1-bfb5-78ed6aecc966"
      },
      "execution_count": 11,
      "outputs": [
        {
          "output_type": "display_data",
          "data": {
            "text/plain": [
              "<Figure size 640x480 with 1 Axes>"
            ],
            "image/png": "[encoded data removed]"
          },
          "metadata": {}
        }
      ]
    },
    {
      "cell_type": "code",
      "source": [],
      "metadata": {
        "id": "AJHXasKw6kJD"
      },
      "execution_count": null,
      "outputs": []
    }
  ]
}